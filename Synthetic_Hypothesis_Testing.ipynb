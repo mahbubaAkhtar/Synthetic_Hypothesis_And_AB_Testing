{
 "cells": [
  {
   "cell_type": "markdown",
   "id": "84496be9",
   "metadata": {},
   "source": [
    "Statistical Hypothesis Testing\n",
    "===================================\n",
    "This script demonstrates the application of various statistical hypothesis tests on synthetic datasets. It includes checks for assumptions, appropriate test selection, and detailed interpretations of results.\n",
    "\n",
    "Steps:\n",
    "1. **Generate Synthetic Datasets**\n",
    "   - Create three datasets (`data_X`, `data_Y`, `data_Z`) with different means and standard deviations.\n",
    "2. **Create a DataFrame**\n",
    "   - Combine the datasets into a single DataFrame for analysis.\n",
    "3. **Perform Statistical Tests**\n",
    "   - Normality Check (Shapiro-Wilk Test)\n",
    "   - Homogeneity of Variances (Levene's Test)\n",
    "   - Difference in Means (ANOVA)\n",
    "   - Non-Parametric Comparison (Mann-Whitney U Test)\n",
    "   - Association Between Categorical Variables (Chi-Square Test)\n",
    "\n",
    "Each test is documented with:\n",
    "- Null and Alternative Hypotheses\n",
    "- Assumptions\n",
    "- Interpretation of Results\n"
   ]
  },
  {
   "cell_type": "markdown",
   "id": "5b59ad98-0f45-4dd5-ba11-56b76a45f7b5",
   "metadata": {},
   "source": [
    "## Import Libraries"
   ]
  },
  {
   "cell_type": "code",
   "execution_count": 14,
   "id": "6f10211c",
   "metadata": {},
   "outputs": [],
   "source": [
    "import pandas as pd\n",
    "import numpy as np\n",
    "from scipy.stats import shapiro, levene, f_oneway, mannwhitneyu, chi2_contingency"
   ]
  },
  {
   "cell_type": "markdown",
   "id": "1906aed7-3659-4d50-9b5f-35db9440b79d",
   "metadata": {},
   "source": [
    "## Generate synthetic datasets"
   ]
  },
  {
   "cell_type": "code",
   "execution_count": 15,
   "id": "d4533d3d",
   "metadata": {},
   "outputs": [],
   "source": [
    "np.random.seed(24)\n",
    "data_X = np.random.normal(loc=80, scale=8, size=100)\n",
    "data_Y = np.random.normal(loc=85, scale=6, size=100)\n",
    "data_Z = np.random.normal(loc=90, scale=12, size=100)"
   ]
  },
  {
   "cell_type": "markdown",
   "id": "32d70b10-eb7c-443f-8c75-ae580c86ca13",
   "metadata": {},
   "source": [
    "## Create a DataFrame"
   ]
  },
  {
   "cell_type": "code",
   "execution_count": 17,
   "id": "5ee1a7c3",
   "metadata": {},
   "outputs": [],
   "source": [
    "data_frame = pd.DataFrame({\n",
    "    \"Result\": np.concatenate([data_X, data_Y, data_Z]),\n",
    "    \"Category\": [\"X\"] * 100 + [\"Y\"] * 100 + [\"Z\"] * 100\n",
    "})\n",
    "data_frame[\"Level\"] = pd.cut(data_frame[\"Result\"], bins=[0, 40, 70, 100], labels=[\"Low\", \"Moderate\", \"High\"])\n"
   ]
  },
  {
   "cell_type": "markdown",
   "id": "b772b8bb-2ff0-4509-aa19-fd766a165632",
   "metadata": {},
   "source": [
    "### Normality Check (Shapiro-Wilk Test)"
   ]
  },
  {
   "cell_type": "code",
   "execution_count": 18,
   "id": "f08b3f4b",
   "metadata": {},
   "outputs": [
    {
     "name": "stdout",
     "output_type": "stream",
     "text": [
      "Normality Check\n",
      "\n",
      "Group: X\n",
      " - Null Hypothesis: The data follows a normal distribution.\n",
      " - Alternative Hypothesis: The data does not follow a normal distribution.\n",
      " - p-value: 0.4702\n",
      "   ✅ Interpretation: Fail to reject the null hypothesis. The data follows a normal distribution.\n",
      "\n",
      "Group: Y\n",
      " - Null Hypothesis: The data follows a normal distribution.\n",
      " - Alternative Hypothesis: The data does not follow a normal distribution.\n",
      " - p-value: 0.8788\n",
      "   ✅ Interpretation: Fail to reject the null hypothesis. The data follows a normal distribution.\n",
      "\n",
      "Group: Z\n",
      " - Null Hypothesis: The data follows a normal distribution.\n",
      " - Alternative Hypothesis: The data does not follow a normal distribution.\n",
      " - p-value: 0.0260\n",
      "   ❌ Interpretation: Reject the null hypothesis. The data does not follow a normal distribution.\n",
      "\n"
     ]
    }
   ],
   "source": [
    "print(\"Normality Check\\n\")\n",
    "for group in [\"X\", \"Y\", \"Z\"]:\n",
    "    print(f\"Group: {group}\")\n",
    "    stat, p = shapiro(data_frame[data_frame[\"Category\"] == group][\"Result\"])\n",
    "    print(f\" - Null Hypothesis: The data follows a normal distribution.\")\n",
    "    print(f\" - Alternative Hypothesis: The data does not follow a normal distribution.\")\n",
    "    print(f\" - p-value: {p:.4f}\")\n",
    "    if p > 0.05:\n",
    "        print(f\"   ✅ Interpretation: Fail to reject the null hypothesis. The data follows a normal distribution.\\n\")\n",
    "    else:\n",
    "        print(f\"   ❌ Interpretation: Reject the null hypothesis. The data does not follow a normal distribution.\\n\")"
   ]
  },
  {
   "cell_type": "markdown",
   "id": "9c07978e-d758-45ff-8c30-7b490f37dd18",
   "metadata": {},
   "source": [
    "### Homogeneity of Variances (Levene's Test)\n"
   ]
  },
  {
   "cell_type": "code",
   "execution_count": 19,
   "id": "5e5bb484",
   "metadata": {},
   "outputs": [
    {
     "name": "stdout",
     "output_type": "stream",
     "text": [
      "Homogeneity of Variances Check\n",
      "\n",
      "Levene’s Test:\n",
      " - Null Hypothesis: Variances are equal across groups.\n",
      " - Alternative Hypothesis: Variances are not equal across groups.\n",
      " - p-value: 0.0000\n",
      "   ❌ Interpretation: Reject the null hypothesis. Variances are not equal across the groups.\n",
      "\n"
     ]
    }
   ],
   "source": [
    "print(\"Homogeneity of Variances Check\\n\")\n",
    "stat, p = levene(data_frame[data_frame[\"Category\"] == \"X\"][\"Result\"],\n",
    "                 data_frame[data_frame[\"Category\"] == \"Y\"][\"Result\"],\n",
    "                 data_frame[data_frame[\"Category\"] == \"Z\"][\"Result\"])\n",
    "print(f\"Levene’s Test:\\n - Null Hypothesis: Variances are equal across groups.\\n - Alternative Hypothesis: Variances are not equal across groups.\\n - p-value: {p:.4f}\")\n",
    "if p > 0.05:\n",
    "    print(\"   ✅ Interpretation: Fail to reject the null hypothesis. Variances are equal across the groups.\\n\")\n",
    "else:\n",
    "    print(\"   ❌ Interpretation: Reject the null hypothesis. Variances are not equal across the groups.\\n\")\n"
   ]
  },
  {
   "cell_type": "markdown",
   "id": "941151b1-c940-496a-80e1-b802d9c5ba8e",
   "metadata": {},
   "source": [
    "### Difference in Means (ANOVA)"
   ]
  },
  {
   "cell_type": "code",
   "execution_count": 20,
   "id": "575b1711",
   "metadata": {},
   "outputs": [
    {
     "name": "stdout",
     "output_type": "stream",
     "text": [
      "Difference in Means (ANOVA)\n",
      "\n",
      "ANOVA Test:\n",
      " - Null Hypothesis: All group means are equal.\n",
      " - Alternative Hypothesis: At least one group mean is different.\n",
      " - p-value: 0.0000\n",
      "   ❗ Interpretation: Reject the null hypothesis. There is a significant difference in means among the groups.\n",
      "\n"
     ]
    }
   ],
   "source": [
    "print(\"Difference in Means (ANOVA)\\n\")\n",
    "stat, p = f_oneway(data_frame[data_frame[\"Category\"] == \"X\"][\"Result\"],\n",
    "                   data_frame[data_frame[\"Category\"] == \"Y\"][\"Result\"],\n",
    "                   data_frame[data_frame[\"Category\"] == \"Z\"][\"Result\"])\n",
    "print(f\"ANOVA Test:\\n - Null Hypothesis: All group means are equal.\\n - Alternative Hypothesis: At least one group mean is different.\\n - p-value: {p:.4f}\")\n",
    "if p < 0.05:\n",
    "    print(\"   ❗ Interpretation: Reject the null hypothesis. There is a significant difference in means among the groups.\\n\")\n",
    "else:\n",
    "    print(\"   ✅ Interpretation: Fail to reject the null hypothesis. No significant difference in means among the groups.\\n\")\n"
   ]
  },
  {
   "cell_type": "markdown",
   "id": "6b76480f-3646-43ac-b0d2-69515e91f18d",
   "metadata": {},
   "source": [
    "### Non-Parametric Comparison (Mann-Whitney U Test)"
   ]
  },
  {
   "cell_type": "code",
   "execution_count": 22,
   "id": "cd3027a7-7705-493c-a615-447c023799a8",
   "metadata": {},
   "outputs": [
    {
     "name": "stdout",
     "output_type": "stream",
     "text": [
      "Non-Parametric Test (Mann-Whitney U)\n",
      "\n",
      "Mann-Whitney U Test:\n",
      " - Null Hypothesis: No significant difference between Group X and Y.\n",
      " - Alternative Hypothesis: Significant difference between Group X and Y.\n",
      " - p-value: 0.0001\n",
      "   ❗ Interpretation: Reject the null hypothesis. Significant difference between Group X and Y.\n",
      "\n"
     ]
    }
   ],
   "source": [
    "print(\"Non-Parametric Test (Mann-Whitney U)\\n\")\n",
    "stat, p = mannwhitneyu(data_frame[data_frame[\"Category\"] == \"X\"][\"Result\"],\n",
    "                       data_frame[data_frame[\"Category\"] == \"Y\"][\"Result\"],\n",
    "                       alternative='two-sided')\n",
    "print(f\"Mann-Whitney U Test:\\n - Null Hypothesis: No significant difference between Group X and Y.\\n - Alternative Hypothesis: Significant difference between Group X and Y.\\n - p-value: {p:.4f}\")\n",
    "if p < 0.05:\n",
    "    print(\"   ❗ Interpretation: Reject the null hypothesis. Significant difference between Group X and Y.\\n\")\n",
    "else:\n",
    "    print(\"   ✅ Interpretation: Fail to reject the null hypothesis. No significant difference between Group X and Y.\\n\")\n"
   ]
  },
  {
   "cell_type": "markdown",
   "id": "b689911d-4390-4e77-86bb-54d0649b03a5",
   "metadata": {},
   "source": [
    "### Association Between Categorical Variables (Chi-Square Test)"
   ]
  },
  {
   "cell_type": "code",
   "execution_count": 23,
   "id": "9e585e12-14cb-4552-b0fe-6418a3bceb0e",
   "metadata": {},
   "outputs": [
    {
     "name": "stdout",
     "output_type": "stream",
     "text": [
      "Association Between Categorical Variables\n",
      "\n",
      "Chi-Square Test:\n",
      " - Null Hypothesis: Category and Level are independent.\n",
      " - Alternative Hypothesis: There is a relationship between Category and Level.\n",
      " - p-value: 0.0022\n",
      "   ❗ Interpretation: Reject the null hypothesis. There is a relationship between Category and Level.\n",
      "\n"
     ]
    }
   ],
   "source": [
    "print(\"Association Between Categorical Variables\\n\")\n",
    "contingency = pd.crosstab(data_frame[\"Category\"], data_frame[\"Level\"])\n",
    "stat, p, dof, expected = chi2_contingency(contingency)\n",
    "print(f\"Chi-Square Test:\\n - Null Hypothesis: Category and Level are independent.\\n - Alternative Hypothesis: There is a relationship between Category and Level.\\n - p-value: {p:.4f}\")\n",
    "if p < 0.05:\n",
    "    print(\"   ❗ Interpretation: Reject the null hypothesis. There is a relationship between Category and Level.\\n\")\n",
    "else:\n",
    "    print(\"   ✅ Interpretation: Fail to reject the null hypothesis. Category and Level are independent.\\n\")\n"
   ]
  },
  {
   "cell_type": "code",
   "execution_count": null,
   "id": "2790f044-4a6a-4a94-8692-8ec83310b9fa",
   "metadata": {},
   "outputs": [],
   "source": []
  }
 ],
 "metadata": {
  "kernelspec": {
   "display_name": "Python 3 (ipykernel)",
   "language": "python",
   "name": "python3"
  },
  "language_info": {
   "codemirror_mode": {
    "name": "ipython",
    "version": 3
   },
   "file_extension": ".py",
   "mimetype": "text/x-python",
   "name": "python",
   "nbconvert_exporter": "python",
   "pygments_lexer": "ipython3",
   "version": "3.12.7"
  }
 },
 "nbformat": 4,
 "nbformat_minor": 5
}
